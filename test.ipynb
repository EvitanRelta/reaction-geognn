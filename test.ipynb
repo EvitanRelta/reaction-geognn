{
 "cells": [
  {
   "cell_type": "code",
   "execution_count": 13,
   "metadata": {},
   "outputs": [
    {
     "name": "stdout",
     "output_type": "stream",
     "text": [
      "The autoreload extension is already loaded. To reload it, use:\n",
      "  %reload_ext autoreload\n"
     ]
    }
   ],
   "source": [
    "%load_ext autoreload\n",
    "%autoreload 2\n",
    "\n",
    "from Utils import Utils\n",
    "from rdkit.Chem import AllChem\n",
    "import torch\n",
    "embed_dim = 32\n",
    "smiles = 'OCc1ccccc1CN'\n",
    "mol = AllChem.MolFromSmiles(smiles)\n",
    "mol, conf = Utils._generate_conformer(mol)\n",
    "\n",
    "atom_bond_graph = Utils._get__angle_graph(mol, conf)\n",
    "bond_angle_graph = Utils._get_bond_angle_graph(mol, conf)"
   ]
  },
  {
   "cell_type": "code",
   "execution_count": 18,
   "metadata": {},
   "outputs": [
    {
     "data": {
      "text/plain": [
       "tensor([1.9222, 1.9222, 2.0719, 2.1291, 2.0719, 2.1106, 2.0814, 2.1106, 2.0927,\n",
       "        2.0927, 2.0932, 2.0932, 2.1135, 2.1135, 2.0692, 2.0749, 2.0692, 1.9505,\n",
       "        2.1390, 1.9505, 2.1291, 2.0814, 2.0749, 2.1390], device='cuda:0')"
      ]
     },
     "execution_count": 18,
     "metadata": {},
     "output_type": "execute_result"
    }
   ],
   "source": [
    "bond_angle_graph.edata['bond_angle']"
   ]
  },
  {
   "cell_type": "code",
   "execution_count": 51,
   "metadata": {},
   "outputs": [
    {
     "data": {
      "text/plain": [
       "0.5800554715383166"
      ]
     },
     "execution_count": 51,
     "metadata": {},
     "output_type": "execute_result"
    }
   ],
   "source": [
    "atom_indexes = (2,0,1,2)\n",
    "shared_atom_index = [x for x in atom_indexes if atom_indexes.count(x) > 1][0]\n",
    "ends_indexes = [x for x in atom_indexes if atom_indexes.count(x) == 1]\n",
    "\n",
    "rdmt.GetAngleRad(conf, ends_indexes[0], shared_atom_index, ends_indexes[1])"
   ]
  },
  {
   "cell_type": "code",
   "execution_count": 26,
   "metadata": {},
   "outputs": [
    {
     "data": {
      "text/plain": [
       "{1, 2}"
      ]
     },
     "execution_count": 26,
     "metadata": {},
     "output_type": "execute_result"
    }
   ],
   "source": [
    "*(1,2,3)"
   ]
  },
  {
   "cell_type": "code",
   "execution_count": 5,
   "metadata": {},
   "outputs": [
    {
     "name": "stdout",
     "output_type": "stream",
     "text": [
      "The autoreload extension is already loaded. To reload it, use:\n",
      "  %reload_ext autoreload\n"
     ]
    },
    {
     "data": {
      "text/plain": [
       "torch.Size([10, 32])"
      ]
     },
     "execution_count": 5,
     "metadata": {},
     "output_type": "execute_result"
    }
   ],
   "source": [
    "%load_ext autoreload\n",
    "%autoreload 2\n",
    "\n",
    "from Utils import Utils\n",
    "embed_dim = 32\n",
    "smiles = 'OCc1ccccc1CN'\n",
    "graph = Utils.smiles_to_graph(smiles)\n",
    "\n",
    "\n",
    "from FeaturesEmbedding import FeaturesEmbedding\n",
    "node_embed_layer = FeaturesEmbedding(Utils.FEATURES['atom_feats'], embed_dim).cuda()\n",
    "edge_embed_layer = FeaturesEmbedding(Utils.FEATURES['bond_feats'], embed_dim).cuda()\n",
    "node_feats = node_embed_layer.forward(graph.ndata)\n",
    "edge_feats = edge_embed_layer.forward(graph.edata)\n",
    "\n",
    "# from SqrtGraphNorm import SqrtGraphNorm\n",
    "# nn = SqrtGraphNorm().cuda()\n",
    "# nn.forward(graph, node_embed_layer.forward(g.ndata))\n",
    "\n",
    "# from SimpleGIN import SimpleGIN\n",
    "# nn = SimpleGIN(embed_dim).cuda()\n",
    "# nn.forward(\n",
    "#     graph,\n",
    "#     node_embed_layer.forward(graph.ndata),\n",
    "#     edge_embed_layer.forward(graph.edata)\n",
    "# )\n",
    "\n",
    "\n",
    "# from FeaturesEmbedding import FeaturesRBF\n",
    "# nn = FeaturesRBF(Utils.RBF_PARAMS['bond'], embed_dim).cuda()\n",
    "# nn.forward(graph.edata).shape\n",
    "\n",
    "\n",
    "# from FixedRBF import FixedRBF\n",
    "# centers, gamma = Utils.RBF_PARAMS['bond']['bond_length']\n",
    "# nn = FixedRBF(centers[:13], gamma).cuda()\n",
    "# nn.forward(graph.edata['bond_length']).shape\n",
    "\n",
    "\n",
    "from GeoGNN import GeoGNNBlock\n",
    "nn = GeoGNNBlock().cuda()\n",
    "out = nn.forward(graph, node_feats, edge_feats)\n",
    "out.shape"
   ]
  },
  {
   "cell_type": "code",
   "execution_count": 17,
   "metadata": {},
   "outputs": [
    {
     "data": {
      "text/plain": [
       "(tensor([0, 1, 1, 2, 2, 2, 3, 3, 4, 4, 5, 5, 6, 6, 7, 7, 7, 8, 8, 9],\n",
       "        device='cuda:0', dtype=torch.int32),\n",
       " tensor([1, 0, 2, 1, 3, 7, 2, 4, 3, 5, 4, 6, 5, 7, 2, 6, 8, 7, 9, 8],\n",
       "        device='cuda:0', dtype=torch.int32))"
      ]
     },
     "execution_count": 17,
     "metadata": {},
     "output_type": "execute_result"
    }
   ],
   "source": [
    "src, dst = graph.edges()\n",
    "mask = src < dst\n",
    "src\n"
   ]
  },
  {
   "cell_type": "code",
   "execution_count": 122,
   "metadata": {},
   "outputs": [
    {
     "data": {
      "text/plain": [
       "torch.float64"
      ]
     },
     "execution_count": 122,
     "metadata": {},
     "output_type": "execute_result"
    }
   ],
   "source": [
    "import numpy as np, torch\n",
    "# new_mol = Chem.AddHs(mol)\n",
    "# res = AllChem.EmbedMultipleConfs(new_mol, numConfs=10)\n",
    "# ### MMFF generates multiple conformations\n",
    "# res = AllChem.MMFFOptimizeMoleculeConfs(new_mol)\n",
    "# new_mol = Chem.RemoveHs(new_mol)\n",
    "# index = np.argmin([x[1] for x in res])\n",
    "# conf = new_mol.GetConformer(id=int(index))\n",
    "\n",
    "atom_pos = torch.from_numpy(conf.GetPositions())[:mol.GetNumAtoms()]\n",
    "src_node_idx, dst_node_idx = [tensor.long() for tensor in g.edges()]\n",
    "# print(atom_pos[g.edges()[0].cpu()])\n",
    "# g.edges()[0]\n",
    "\n",
    "atom_pos[src_node_idx].dtype\n",
    "# torch.from_numpy(atom_pos[dst_node_idx] - atom_pos[src_node_idx])"
   ]
  },
  {
   "cell_type": "code",
   "execution_count": 116,
   "metadata": {},
   "outputs": [
    {
     "data": {
      "text/plain": [
       "numpy.ndarray"
      ]
     },
     "execution_count": 116,
     "metadata": {},
     "output_type": "execute_result"
    }
   ],
   "source": [
    "type(atom_pos)"
   ]
  },
  {
   "cell_type": "code",
   "execution_count": 4,
   "metadata": {},
   "outputs": [
    {
     "name": "stdout",
     "output_type": "stream",
     "text": [
      "torch.Size([5, 1])\n"
     ]
    },
    {
     "data": {
      "text/plain": [
       "torch.Size([5, 3])"
      ]
     },
     "execution_count": 4,
     "metadata": {},
     "output_type": "execute_result"
    }
   ],
   "source": [
    "import numpy as np\n",
    "import torch\n",
    "centers = torch.tensor([1,2,3])\n",
    "centers = torch.reshape(centers.float(), [1, -1])\n",
    "x = torch.tensor([4,5,6,7,8])\n",
    "x = torch.reshape(x, [-1, 1])\n",
    "print(x.shape)\n",
    "torch.exp(-10.0 * torch.square(x - centers)).shape"
   ]
  },
  {
   "cell_type": "code",
   "execution_count": 3,
   "metadata": {},
   "outputs": [
    {
     "data": {
      "text/plain": [
       "(('a', 'b'), (1, 2))"
      ]
     },
     "execution_count": 3,
     "metadata": {},
     "output_type": "execute_result"
    }
   ],
   "source": [
    "a,b = zip(*({'a':1, 'b':2}).items())\n",
    "a,b"
   ]
  },
  {
   "cell_type": "code",
   "execution_count": 6,
   "metadata": {},
   "outputs": [],
   "source": [
    "import dgl, torch, numpy as np\n",
    "from rdkit import Chem\n",
    "from rdkit.Chem import rdchem, AllChem\n",
    "from dgl import DGLGraph\n",
    "from typing import TypeAlias, Any, Callable, Literal\n",
    "from dataclasses import dataclass\n",
    "\n",
    "\n",
    "Atom: TypeAlias = rdchem.Atom | Any\n",
    "Bond: TypeAlias = rdchem.Bond\n",
    "Mol: TypeAlias = rdchem.Mol\n",
    "Conformer: TypeAlias = rdchem.Conformer\n",
    "\n",
    "class Utils:\n",
    "    RdChemEnum: TypeAlias = Any     # RdChem's enums have no proper typings.\n",
    "    @staticmethod\n",
    "    def _rdchem_enum_to_list(rdchem_enum: RdChemEnum) -> list[RdChemEnum]:\n",
    "        \"\"\"Converts an enum from `rdkit.Chem.rdchem` (eg. `rdchem.ChiralType`)\n",
    "        to a list of all the possible enum valuess.\n",
    "\n",
    "        Args:\n",
    "            rdchem_enum (RdChemEnum): An enum defined in `rdkit.Chem`.\n",
    "\n",
    "        Returns:\n",
    "            list[RdChemEnum]: All possible enum values in a list.\n",
    "        \"\"\"\n",
    "        return [rdchem_enum.values[i] for i in range(len(rdchem_enum.values))]\n",
    "\n",
    "\n",
    "    FeatureCategory: TypeAlias = Literal['atom_feats', 'bond_feats']\n",
    "    FeatureName: TypeAlias = str\n",
    "    GetValueFn: TypeAlias = Callable[[Atom], Bond]\n",
    "\n",
    "    @dataclass\n",
    "    class Feature:\n",
    "        get_value: Callable[[Atom | Bond], Any]\n",
    "        \"\"\"Gets the feature value from an `rdchem.Atom` / `rdchem.Bond` instance.\"\"\"\n",
    "        possible_values: list[Any]\n",
    "        \"\"\"All possible values this feature can take on.\"\"\"\n",
    "\n",
    "    FEATURES: dict[FeatureCategory, dict[FeatureName, Feature]] = {\n",
    "        'atom_feats': {\n",
    "            'atomic_num': Feature(\n",
    "                lambda atom: atom.GetAtomicNum(),\n",
    "                list(range(1, 119)) + ['misc'],\n",
    "            ),\n",
    "            'chiral_tag': Feature(\n",
    "                lambda atom: atom.GetChiralTag(),\n",
    "                _rdchem_enum_to_list(rdchem.ChiralType),\n",
    "            ),\n",
    "            'degree': Feature(\n",
    "                lambda atom: atom.GetDegree(),\n",
    "                [0, 1, 2, 3, 4, 5, 6, 7, 8, 9, 10, 'misc'],\n",
    "            ),\n",
    "            'formal_charge': Feature(\n",
    "                lambda atom: atom.GetFormalCharge(),\n",
    "                [-5, -4, -3, -2, -1, 0, 1, 2, 3, 4, 5, 6, 7, 8, 9, 10, 'misc'],\n",
    "            ),\n",
    "            'hybridization': Feature(\n",
    "                lambda atom: atom.GetHybridization(),\n",
    "                _rdchem_enum_to_list(rdchem.HybridizationType),\n",
    "            ),\n",
    "            'is_aromatic': Feature(\n",
    "                lambda atom: int(atom.GetIsAromatic()),\n",
    "                [0, 1],\n",
    "            ),\n",
    "            'total_numHs': Feature(\n",
    "                lambda atom: atom.GetTotalNumHs(),\n",
    "                [0, 1, 2, 3, 4, 5, 6, 7, 8, 'misc'],\n",
    "            ),\n",
    "        },\n",
    "        'bond_feats': {\n",
    "            'bond_dir': Feature(\n",
    "                lambda bond: bond.GetBondDir(),\n",
    "                _rdchem_enum_to_list(rdchem.BondDir),\n",
    "            ),\n",
    "            'bond_type': Feature(\n",
    "                lambda bond: bond.GetBondType(),\n",
    "                _rdchem_enum_to_list(rdchem.BondType),\n",
    "            ),\n",
    "            'is_in_ring': Feature(\n",
    "                lambda bond: int(bond.IsInRing()),\n",
    "                [0, 1],\n",
    "            ),\n",
    "        }\n",
    "    }\n",
    "\n",
    "    @staticmethod\n",
    "    def smiles_to_graph(smiles: str) -> DGLGraph:\n",
    "        \"\"\"Convert a molecule's SMILES string into a DGL graph.\n",
    "\n",
    "        Args:\n",
    "            smiles (str): A molecule's SMILES string.\n",
    "\n",
    "        Returns:\n",
    "            DGLGraph: The molecule in graph form.\n",
    "        \"\"\"\n",
    "        mol = AllChem.MolFromSmiles(smiles)\n",
    "        # mol, conf = Utils._generate_conformer(mol)\n",
    "\n",
    "        # Create an undirected DGL graph with all the molecule's nodes and edges.\n",
    "        num_bonds = mol.GetNumBonds()\n",
    "        edges = torch.zeros(num_bonds, dtype=torch.int32), torch.zeros(num_bonds, dtype=torch.int32)\n",
    "        for i, bond in enumerate(mol.GetBonds()):\n",
    "            edges[0][i] = bond.GetBeginAtomIdx()\n",
    "            edges[1][i] = bond.GetEndAtomIdx()\n",
    "        graph = dgl.graph(edges, idtype=torch.int32)\n",
    "\n",
    "        # Add node features.\n",
    "        for feat_name, feat in Utils.FEATURES['atom_feats'].items():\n",
    "            graph.ndata[feat_name] = torch.tensor([feat.get_value(atom) for atom in mol.GetAtoms()])\n",
    "\n",
    "        # Add edge features.\n",
    "        for feat_name, feat in Utils.FEATURES['bond_feats'].items():\n",
    "            graph.edata[feat_name] = torch.tensor([feat.get_value(bond) for bond in mol.GetBonds()])\n",
    "\n",
    "        graph = dgl.to_bidirected(graph, copy_ndata=True)   # Convert to undirected graph.\n",
    "        # graph = graph.to('cuda:0')  # Copies graph to GPU. (https://docs.dgl.ai/guide/graph-gpu.html)\n",
    "        return graph\n",
    "\n",
    "    @staticmethod\n",
    "    def _generate_conformer(mol: Mol, numConfs: int = 10) -> tuple[Mol, Conformer]:\n",
    "        new_mol = Chem.AddHs(mol)\n",
    "        res = AllChem.EmbedMultipleConfs(new_mol, numConfs=numConfs)\n",
    "        ### MMFF generates multiple conformations\n",
    "        res = AllChem.MMFFOptimizeMoleculeConfs(new_mol)\n",
    "        new_mol = Chem.RemoveHs(new_mol)\n",
    "        index = np.argmin([x[1] for x in res])\n",
    "        conf = new_mol.GetConformer(id=int(index))\n",
    "        return new_mol, conf"
   ]
  },
  {
   "cell_type": "code",
   "execution_count": 25,
   "metadata": {},
   "outputs": [],
   "source": [
    "bonds_tensor = torch.zeros(2, mol.GetNumBonds(), dtype=torch.long)\n",
    "for i, bond in enumerate(mol.GetBonds()):\n",
    "    begin_atom_idx = bond.GetBeginAtomIdx()\n",
    "    end_atom_idx = bond.GetEndAtomIdx()\n",
    "    bonds_tensor[0, i] = begin_atom_idx\n",
    "    bonds_tensor[1, i] = end_atom_idx"
   ]
  },
  {
   "cell_type": "code",
   "execution_count": 32,
   "metadata": {},
   "outputs": [],
   "source": [
    "edges"
   ]
  },
  {
   "cell_type": "code",
   "execution_count": 14,
   "metadata": {},
   "outputs": [
    {
     "data": {
      "text/plain": [
       "[<rdkit.Chem.rdchem.Atom at 0x7f3f36799bd0>,\n",
       " <rdkit.Chem.rdchem.Atom at 0x7f3f36799c40>,\n",
       " <rdkit.Chem.rdchem.Atom at 0x7f3f36799cb0>,\n",
       " <rdkit.Chem.rdchem.Atom at 0x7f3f36799d20>,\n",
       " <rdkit.Chem.rdchem.Atom at 0x7f3f36799d90>,\n",
       " <rdkit.Chem.rdchem.Atom at 0x7f3f36799e00>,\n",
       " <rdkit.Chem.rdchem.Atom at 0x7f3f36799e70>,\n",
       " <rdkit.Chem.rdchem.Atom at 0x7f3f36799ee0>,\n",
       " <rdkit.Chem.rdchem.Atom at 0x7f3f36799f50>,\n",
       " <rdkit.Chem.rdchem.Atom at 0x7f3f36799fc0>]"
      ]
     },
     "execution_count": 14,
     "metadata": {},
     "output_type": "execute_result"
    }
   ],
   "source": [
    "[atom for atom in mol.GetAtoms()]"
   ]
  }
 ],
 "metadata": {
  "kernelspec": {
   "display_name": "dgl-geognn",
   "language": "python",
   "name": "python3"
  },
  "language_info": {
   "codemirror_mode": {
    "name": "ipython",
    "version": 3
   },
   "file_extension": ".py",
   "mimetype": "text/x-python",
   "name": "python",
   "nbconvert_exporter": "python",
   "pygments_lexer": "ipython3",
   "version": "3.10.11"
  },
  "orig_nbformat": 4
 },
 "nbformat": 4,
 "nbformat_minor": 2
}
