{
 "cells": [
  {
   "cell_type": "code",
   "execution_count": 2,
   "metadata": {},
   "outputs": [
    {
     "name": "stdout",
     "output_type": "stream",
     "text": [
      "Graph(num_nodes=4, num_edges=3,\n",
      "      ndata_schemes={}\n",
      "      edata_schemes={})\n"
     ]
    }
   ],
   "source": [
    "%run test.py"
   ]
  },
  {
   "cell_type": "code",
   "execution_count": 3,
   "metadata": {},
   "outputs": [
    {
     "data": {
      "text/plain": [
       "tensor([[-1.2583, -0.0714,  0.4054],\n",
       "        [-1.8833, -0.2661,  1.0849],\n",
       "        [-1.7635,  1.0024, -0.5281],\n",
       "        [-1.7635,  1.0024, -0.5281]], grad_fn=<EmbeddingBackward0>)"
      ]
     },
     "execution_count": 3,
     "metadata": {},
     "output_type": "execute_result"
    }
   ],
   "source": [
    "import torch\n",
    "from torch import nn\n",
    "\n",
    "embedding = nn.Embedding(10, 3)\n",
    "embedding.forward(torch.tensor([0,1,3,3]))\n"
   ]
  },
  {
   "cell_type": "code",
   "execution_count": 2,
   "metadata": {},
   "outputs": [],
   "source": [
    "import numpy as np\n",
    "from rdkit import Chem\n",
    "from rdkit.Chem import rdchem, AllChem\n",
    "\n",
    "def _generate_conformer(mol: rdchem.Mol, numConfs: int = 10) -> tuple[rdchem.Mol, rdchem.Conformer]:\n",
    "    # try:\n",
    "    new_mol = Chem.AddHs(mol)\n",
    "    res = AllChem.EmbedMultipleConfs(new_mol, numConfs=numConfs)\n",
    "    ### MMFF generates multiple conformations\n",
    "    res = AllChem.MMFFOptimizeMoleculeConfs(new_mol)\n",
    "    new_mol = Chem.RemoveHs(new_mol)\n",
    "    index = np.argmin([x[1] for x in res])\n",
    "    conf = new_mol.GetConformer(id=int(index))\n",
    "    # except:\n",
    "    #     new_mol = mol\n",
    "    #     AllChem.Compute2DCoords(new_mol)\n",
    "    #     conf = new_mol.GetConformer()\n",
    "    return new_mol, conf\n",
    "\n",
    "smiles = 'OCc1ccccc1CN'\n",
    "mol = AllChem.MolFromSmiles(smiles)\n",
    "new_mol, conf = _generate_conformer(mol)"
   ]
  },
  {
   "cell_type": "code",
   "execution_count": 50,
   "metadata": {},
   "outputs": [
    {
     "ename": "KeyError",
     "evalue": "'h'",
     "output_type": "error",
     "traceback": [
      "\u001b[0;31m---------------------------------------------------------------------------\u001b[0m",
      "\u001b[0;31mKeyError\u001b[0m                                  Traceback (most recent call last)",
      "Cell \u001b[0;32mIn[50], line 142\u001b[0m\n\u001b[1;32m    140\u001b[0m mol \u001b[39m=\u001b[39m AllChem\u001b[39m.\u001b[39mMolFromSmiles(smiles)\n\u001b[1;32m    141\u001b[0m graph \u001b[39m=\u001b[39m Utils\u001b[39m.\u001b[39msmiles_to_graph(smiles)\n\u001b[0;32m--> 142\u001b[0m graph\u001b[39m.\u001b[39;49msrcdata[\u001b[39m'\u001b[39;49m\u001b[39mh\u001b[39;49m\u001b[39m'\u001b[39;49m]\n",
      "File \u001b[0;32m~/anaconda3/envs/dgl-geognn/lib/python3.10/site-packages/dgl/view.py:80\u001b[0m, in \u001b[0;36mHeteroNodeDataView.__getitem__\u001b[0;34m(self, key)\u001b[0m\n\u001b[1;32m     78\u001b[0m     \u001b[39mreturn\u001b[39;00m ret\n\u001b[1;32m     79\u001b[0m \u001b[39melse\u001b[39;00m:\n\u001b[0;32m---> 80\u001b[0m     \u001b[39mreturn\u001b[39;00m \u001b[39mself\u001b[39;49m\u001b[39m.\u001b[39;49m_graph\u001b[39m.\u001b[39;49m_get_n_repr(\u001b[39mself\u001b[39;49m\u001b[39m.\u001b[39;49m_ntid, \u001b[39mself\u001b[39;49m\u001b[39m.\u001b[39;49m_nodes)[key]\n",
      "File \u001b[0;32m~/anaconda3/envs/dgl-geognn/lib/python3.10/site-packages/dgl/frame.py:688\u001b[0m, in \u001b[0;36mFrame.__getitem__\u001b[0;34m(self, name)\u001b[0m\n\u001b[1;32m    675\u001b[0m \u001b[39mdef\u001b[39;00m \u001b[39m__getitem__\u001b[39m(\u001b[39mself\u001b[39m, name):\n\u001b[1;32m    676\u001b[0m \u001b[39m    \u001b[39m\u001b[39m\"\"\"Return the column of the given name.\u001b[39;00m\n\u001b[1;32m    677\u001b[0m \n\u001b[1;32m    678\u001b[0m \u001b[39m    Parameters\u001b[39;00m\n\u001b[0;32m   (...)\u001b[0m\n\u001b[1;32m    686\u001b[0m \u001b[39m        Column data.\u001b[39;00m\n\u001b[1;32m    687\u001b[0m \u001b[39m    \"\"\"\u001b[39;00m\n\u001b[0;32m--> 688\u001b[0m     \u001b[39mreturn\u001b[39;00m \u001b[39mself\u001b[39;49m\u001b[39m.\u001b[39;49m_columns[name]\u001b[39m.\u001b[39mdata\n",
      "\u001b[0;31mKeyError\u001b[0m: 'h'"
     ]
    }
   ],
   "source": [
    "import dgl, torch, numpy as np\n",
    "from rdkit import Chem\n",
    "from rdkit.Chem import rdchem, AllChem\n",
    "from torch import nn, Tensor, IntTensor\n",
    "from dgl import nn as gnn, DGLGraph\n",
    "from typing import TypeAlias, Any, no_type_check, Callable, Literal\n",
    "from enum import Enum\n",
    "from dataclasses import dataclass\n",
    "\n",
    "\n",
    "Atom: TypeAlias = rdchem.Atom\n",
    "Bond: TypeAlias = rdchem.Bond\n",
    "Mol: TypeAlias = rdchem.Mol\n",
    "Conformer: TypeAlias = rdchem.Conformer\n",
    "\n",
    "class Utils:\n",
    "    RdChemEnum: TypeAlias = Any     # RdChem's enums have no proper typings.\n",
    "    @staticmethod\n",
    "    def _rdchem_enum_to_list(rdchem_enum: RdChemEnum) -> list[RdChemEnum]:\n",
    "        \"\"\"Converts an enum from `rdkit.Chem.rdchem` (eg. `rdchem.ChiralType`)\n",
    "        to a list of all the possible enum valuess.\n",
    "\n",
    "        Args:\n",
    "            rdchem_enum (RdChemEnum): An enum defined in `rdkit.Chem`.\n",
    "\n",
    "        Returns:\n",
    "            list[RdChemEnum]: All possible enum values in a list.\n",
    "        \"\"\"\n",
    "        return [rdchem_enum.values[i] for i in range(len(rdchem_enum.values))]\n",
    "\n",
    "\n",
    "    FeatureCategory: TypeAlias = Literal['atom_feats', 'bond_feats']\n",
    "    FeatureName: TypeAlias = str\n",
    "    OneHotHeaders: TypeAlias = list[Any]\n",
    "    GetValueFn: TypeAlias = Callable[[Atom], Bond]\n",
    "\n",
    "    @dataclass\n",
    "    class Feature:\n",
    "        get_value: Callable[[Atom | Bond], Any]\n",
    "        \"\"\"Gets the feature value from an `rdchem.Atom` / `rdchem.Bond` instance.\"\"\"\n",
    "        onehot_headers: list[Any]\n",
    "        \"\"\"The one-hot headers for the feature.\"\"\"\n",
    "\n",
    "    FEATURES: dict[FeatureCategory, dict[FeatureName, Feature]] = {\n",
    "        'atom_feats': {\n",
    "            'atomic_num': Feature(\n",
    "                lambda atom: atom.GetAtomicNum(),\n",
    "                list(range(1, 119)) + ['misc'],\n",
    "            ),\n",
    "            'chiral_tag': Feature(\n",
    "                lambda atom: atom.GetChiralTag(),\n",
    "                _rdchem_enum_to_list(rdchem.ChiralType),\n",
    "            ),\n",
    "            'degree': Feature(\n",
    "                lambda atom: atom.GetDegree(),\n",
    "                [0, 1, 2, 3, 4, 5, 6, 7, 8, 9, 10, 'misc'],\n",
    "            ),\n",
    "            'formal_charge': Feature(\n",
    "                lambda atom: atom.GetFormalCharge(),\n",
    "                [-5, -4, -3, -2, -1, 0, 1, 2, 3, 4, 5, 6, 7, 8, 9, 10, 'misc'],\n",
    "            ),\n",
    "            'hybridization': Feature(\n",
    "                lambda atom: atom.GetHybridization(),\n",
    "                _rdchem_enum_to_list(rdchem.HybridizationType),\n",
    "            ),\n",
    "            'is_aromatic': Feature(\n",
    "                lambda atom: int(atom.GetIsAromatic()),\n",
    "                [0, 1],\n",
    "            ),\n",
    "            'total_numHs': Feature(\n",
    "                lambda atom: atom.GetTotalNumHs(),\n",
    "                [0, 1, 2, 3, 4, 5, 6, 7, 8, 'misc'],\n",
    "            ),\n",
    "        },\n",
    "        'bond_feats': {\n",
    "            'bond_dir': Feature(\n",
    "                lambda bond: bond.GetBondDir(),\n",
    "                _rdchem_enum_to_list(rdchem.BondDir),\n",
    "            ),\n",
    "            'bond_type': Feature(\n",
    "                lambda bond: bond.GetBondType(),\n",
    "                _rdchem_enum_to_list(rdchem.BondType),\n",
    "            ),\n",
    "            'is_in_ring': Feature(\n",
    "                lambda bond: int(bond.IsInRing()),\n",
    "                [0, 1],\n",
    "            ),\n",
    "        }\n",
    "    }\n",
    "    FEATURE_NAMES: dict[FeatureCategory, list[FeatureName]] = {\n",
    "        'atom_feats': list(FEATURES['atom_feats'].keys()),\n",
    "        'bond_feats': list(FEATURES['bond_feats'].keys())\n",
    "    }\n",
    "\n",
    "    @staticmethod\n",
    "    def smiles_to_graph(smiles: str) -> DGLGraph:\n",
    "        \"\"\"Convert a molecule's SMILES string into a DGL graph.\n",
    "\n",
    "        Args:\n",
    "            smiles (str): A molecule's SMILES string.\n",
    "\n",
    "        Returns:\n",
    "            DGLGraph: The molecule in graph form.\n",
    "        \"\"\"\n",
    "        mol = AllChem.MolFromSmiles(smiles)\n",
    "        if len(mol.GetAtoms()) <= 400:\n",
    "            mol, conf = Utils._generate_conformer(mol)\n",
    "\n",
    "            # Create an undirected DGL graph with all the molecule's nodes and edges.\n",
    "            num_bonds = mol.GetNumBonds()\n",
    "            edges = torch.zeros(num_bonds, dtype=torch.int32), torch.zeros(num_bonds, dtype=torch.int32)\n",
    "            for i, bond in enumerate(mol.GetBonds()):\n",
    "                edges[0][i] = bond.GetBeginAtomIdx()\n",
    "                edges[1][i] = bond.GetEndAtomIdx()\n",
    "            graph = dgl.graph(edges, idtype=torch.int32)\n",
    "\n",
    "            # Add node features.\n",
    "            for feat_name, feat in Utils.FEATURES['atom_feats'].items():\n",
    "                graph.ndata[feat_name] = torch.tensor([feat.get_value(atom) for atom in mol.GetAtoms()])\n",
    "\n",
    "            # Add edge features.\n",
    "            for feat_name, feat in Utils.FEATURES['bond_feats'].items():\n",
    "                graph.edata[feat_name] = torch.tensor([feat.get_value(bond) for bond in mol.GetBonds()])\n",
    "\n",
    "            # graph = dgl.to_bidirected(graph)\n",
    "            return graph\n",
    "\n",
    "    @staticmethod\n",
    "    def _generate_conformer(mol: Mol, numConfs: int = 10) -> tuple[Mol, Conformer]:\n",
    "        new_mol = Chem.AddHs(mol)\n",
    "        res = AllChem.EmbedMultipleConfs(new_mol, numConfs=numConfs)\n",
    "        ### MMFF generates multiple conformations\n",
    "        res = AllChem.MMFFOptimizeMoleculeConfs(new_mol)\n",
    "        new_mol = Chem.RemoveHs(new_mol)\n",
    "        index = np.argmin([x[1] for x in res])\n",
    "        conf = new_mol.GetConformer(id=int(index))\n",
    "        return new_mol, conf\n",
    "\n",
    "smiles = 'OCc1ccccc1CN'\n",
    "mol = AllChem.MolFromSmiles(smiles)\n",
    "graph = Utils.smiles_to_graph(smiles)\n",
    "graph.srcdata['h']"
   ]
  },
  {
   "cell_type": "code",
   "execution_count": 25,
   "metadata": {},
   "outputs": [],
   "source": [
    "bonds_tensor = torch.zeros(2, mol.GetNumBonds(), dtype=torch.long)\n",
    "for i, bond in enumerate(mol.GetBonds()):\n",
    "    begin_atom_idx = bond.GetBeginAtomIdx()\n",
    "    end_atom_idx = bond.GetEndAtomIdx()\n",
    "    bonds_tensor[0, i] = begin_atom_idx\n",
    "    bonds_tensor[1, i] = end_atom_idx"
   ]
  },
  {
   "cell_type": "code",
   "execution_count": 32,
   "metadata": {},
   "outputs": [],
   "source": [
    "edges"
   ]
  },
  {
   "cell_type": "code",
   "execution_count": 14,
   "metadata": {},
   "outputs": [
    {
     "data": {
      "text/plain": [
       "[<rdkit.Chem.rdchem.Atom at 0x7f3f36799bd0>,\n",
       " <rdkit.Chem.rdchem.Atom at 0x7f3f36799c40>,\n",
       " <rdkit.Chem.rdchem.Atom at 0x7f3f36799cb0>,\n",
       " <rdkit.Chem.rdchem.Atom at 0x7f3f36799d20>,\n",
       " <rdkit.Chem.rdchem.Atom at 0x7f3f36799d90>,\n",
       " <rdkit.Chem.rdchem.Atom at 0x7f3f36799e00>,\n",
       " <rdkit.Chem.rdchem.Atom at 0x7f3f36799e70>,\n",
       " <rdkit.Chem.rdchem.Atom at 0x7f3f36799ee0>,\n",
       " <rdkit.Chem.rdchem.Atom at 0x7f3f36799f50>,\n",
       " <rdkit.Chem.rdchem.Atom at 0x7f3f36799fc0>]"
      ]
     },
     "execution_count": 14,
     "metadata": {},
     "output_type": "execute_result"
    }
   ],
   "source": [
    "[atom for atom in mol.GetAtoms()]"
   ]
  }
 ],
 "metadata": {
  "kernelspec": {
   "display_name": "dgl-geognn",
   "language": "python",
   "name": "python3"
  },
  "language_info": {
   "codemirror_mode": {
    "name": "ipython",
    "version": 3
   },
   "file_extension": ".py",
   "mimetype": "text/x-python",
   "name": "python",
   "nbconvert_exporter": "python",
   "pygments_lexer": "ipython3",
   "version": "3.10.11"
  },
  "orig_nbformat": 4
 },
 "nbformat": 4,
 "nbformat_minor": 2
}
